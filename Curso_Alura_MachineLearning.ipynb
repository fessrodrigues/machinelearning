{
  "nbformat": 4,
  "nbformat_minor": 0,
  "metadata": {
    "colab": {
      "provenance": [],
      "authorship_tag": "ABX9TyNZ6wGUJ6wuX1hXUSCFyJBR",
      "include_colab_link": true
    },
    "kernelspec": {
      "name": "python3",
      "display_name": "Python 3"
    },
    "language_info": {
      "name": "python"
    }
  },
  "cells": [
    {
      "cell_type": "markdown",
      "metadata": {
        "id": "view-in-github",
        "colab_type": "text"
      },
      "source": [
        "<a href=\"https://colab.research.google.com/github/felipessrodrigues/machinelearning/blob/aulas/Curso_Alura_MachineLearning.ipynb\" target=\"_parent\"><img src=\"https://colab.research.google.com/assets/colab-badge.svg\" alt=\"Open In Colab\"/></a>"
      ]
    },
    {
      "cell_type": "code",
      "execution_count": 1,
      "metadata": {
        "id": "4LGuG4rtcOfp"
      },
      "outputs": [],
      "source": [
        "#features\n",
        "#pelo longo?\n",
        "#perna curta?\n",
        "#faz au au?\n",
        "porco1 = [0, 1, 0]\n",
        "porco2 = [0, 1, 1]\n",
        "porco3 = [1, 1, 0]\n",
        "\n",
        "cachorro1 = [0, 1 ,1]\n",
        "cachorro2 = [1, 0, 1]\n",
        "cachorro3 = [1, 1, 1]\n",
        "\n",
        "#x sao os dados/treino\n",
        "#y sao as classes/labels\n",
        "#1 => porco, 0 => cachorro\n",
        "train_x = [porco1, porco2, porco3, cachorro1, cachorro2, cachorro3]\n",
        "train_y = [1, 1, 1, 0, 0, 0] # labels / etiquetas"
      ]
    },
    {
      "cell_type": "code",
      "source": [
        "from sklearn.svm import LinearSVC\n",
        "\n",
        "model = LinearSVC()\n",
        "model.fit(train_x, train_y)\n",
        "\n",
        "#apenas um teste\n",
        "animal_misterioso = [1, 1, 1]\n",
        "model.predict([animal_misterioso])\n",
        "\n",
        "m1 = [1, 1, 1]\n",
        "m2 = [1, 1, 0]\n",
        "m3 = [0, 1, 1]\n",
        "\n",
        "test_x = [m1, m2, m3]\n",
        "test_y = [0, 1 ,1]\n",
        "\n",
        "previsoes = model.predict(test_x)\n",
        "\n",
        "corretos = (previsoes == test_y).sum()\n",
        "\n",
        "total = len(test_x)\n",
        "taxa_acerto = corretos/total\n",
        "\n",
        "print(\"Taxa Acerto %.2f\" %  (taxa_acerto*100))"
      ],
      "metadata": {
        "colab": {
          "base_uri": "https://localhost:8080/"
        },
        "id": "NpJ97lyAkcw-",
        "outputId": "e9758424-5a65-4ad4-da05-30e99d368774"
      },
      "execution_count": 6,
      "outputs": [
        {
          "output_type": "stream",
          "name": "stdout",
          "text": [
            "Taxa Acerto 66.67\n"
          ]
        }
      ]
    },
    {
      "cell_type": "code",
      "source": [
        "from sklearn.metrics import accuracy_score\n",
        "\n",
        "taxa_de_acerto = accuracy_score(test_y, previsoes)\n",
        "print(\"Taxa de Acerto %.2f\" %  (taxa_de_acerto*100))"
      ],
      "metadata": {
        "colab": {
          "base_uri": "https://localhost:8080/"
        },
        "id": "Hwq1H9Sch8ZB",
        "outputId": "ab4c7fd6-4fcd-4a16-9fad-aec7545cbb76"
      },
      "execution_count": 8,
      "outputs": [
        {
          "output_type": "stream",
          "name": "stdout",
          "text": [
            "Taxa de Acerto 66.67\n"
          ]
        }
      ]
    },
    {
      "cell_type": "code",
      "source": [],
      "metadata": {
        "id": "3JlE_sRHkhwZ"
      },
      "execution_count": null,
      "outputs": []
    }
  ]
}